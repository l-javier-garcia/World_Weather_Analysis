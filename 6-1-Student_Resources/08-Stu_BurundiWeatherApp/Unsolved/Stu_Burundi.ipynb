{
 "cells": [
  {
   "cell_type": "code",
   "execution_count": 3,
   "metadata": {},
   "outputs": [],
   "source": [
    "# Dependencies\n",
    "import requests\n",
    "from config import api_key"
   ]
  },
  {
   "cell_type": "code",
   "execution_count": 8,
   "metadata": {},
   "outputs": [
    {
     "data": {
      "text/plain": [
       "{'coord': {'lon': 29.3644, 'lat': -3.3822},\n",
       " 'weather': [{'id': 803,\n",
       "   'main': 'Clouds',\n",
       "   'description': 'broken clouds',\n",
       "   'icon': '04n'}],\n",
       " 'base': 'stations',\n",
       " 'main': {'temp': 71.2,\n",
       "  'feels_like': 71.55,\n",
       "  'temp_min': 71.2,\n",
       "  'temp_max': 71.2,\n",
       "  'pressure': 1012,\n",
       "  'humidity': 75,\n",
       "  'sea_level': 1012,\n",
       "  'grnd_level': 923},\n",
       " 'visibility': 10000,\n",
       " 'wind': {'speed': 4.9, 'deg': 32, 'gust': 7.09},\n",
       " 'clouds': {'all': 78},\n",
       " 'dt': 1637722241,\n",
       " 'sys': {'country': 'BI', 'sunrise': 1637725247, 'sunset': 1637769484},\n",
       " 'timezone': 7200,\n",
       " 'id': 425378,\n",
       " 'name': 'Bujumbura',\n",
       " 'cod': 200}"
      ]
     },
     "execution_count": 8,
     "metadata": {},
     "output_type": "execute_result"
    }
   ],
   "source": [
    "# Build query URL and request your results in Celsius\n",
    "url = \"http://api.openweathermap.org/data/2.5/weather?units=Metric&APPID=57e84771ad8c6f037f39e40e3fc107d6\" \n",
    "city_url = url + \"&q=\" + \"Bujumbura\"\n",
    "\n",
    "# Get weather data\n",
    "city_weather.json()"
   ]
  },
  {
   "cell_type": "code",
   "execution_count": 17,
   "metadata": {},
   "outputs": [
    {
     "data": {
      "text/plain": [
       "{'temp': 71.2,\n",
       " 'feels_like': 71.55,\n",
       " 'temp_min': 71.2,\n",
       " 'temp_max': 71.2,\n",
       " 'pressure': 1012,\n",
       " 'humidity': 75,\n",
       " 'sea_level': 1012,\n",
       " 'grnd_level': 923}"
      ]
     },
     "execution_count": 17,
     "metadata": {},
     "output_type": "execute_result"
    }
   ],
   "source": [
    "# Get temperature from JSON response\n",
    "city_weather.json()[\"main\"]"
   ]
  },
  {
   "cell_type": "code",
   "execution_count": 18,
   "metadata": {},
   "outputs": [
    {
     "data": {
      "text/plain": [
       "71.2"
      ]
     },
     "execution_count": 18,
     "metadata": {},
     "output_type": "execute_result"
    }
   ],
   "source": [
    "# Report temperature\n",
    "city_weather.json()[\"main\"][\"temp\"]"
   ]
  }
 ],
 "metadata": {
  "kernelspec": {
   "display_name": "Python 3",
   "language": "python",
   "name": "python3"
  },
  "language_info": {
   "codemirror_mode": {
    "name": "ipython",
    "version": 3
   },
   "file_extension": ".py",
   "mimetype": "text/x-python",
   "name": "python",
   "nbconvert_exporter": "python",
   "pygments_lexer": "ipython3",
   "version": "3.7.10"
  },
  "varInspector": {
   "cols": {
    "lenName": 16,
    "lenType": 16,
    "lenVar": 40
   },
   "kernels_config": {
    "python": {
     "delete_cmd_postfix": "",
     "delete_cmd_prefix": "del ",
     "library": "var_list.py",
     "varRefreshCmd": "print(var_dic_list())"
    },
    "r": {
     "delete_cmd_postfix": ") ",
     "delete_cmd_prefix": "rm(",
     "library": "var_list.r",
     "varRefreshCmd": "cat(var_dic_list()) "
    }
   },
   "types_to_exclude": [
    "module",
    "function",
    "builtin_function_or_method",
    "instance",
    "_Feature"
   ],
   "window_display": false
  }
 },
 "nbformat": 4,
 "nbformat_minor": 2
}
