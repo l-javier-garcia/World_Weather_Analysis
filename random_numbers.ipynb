{
 "cells": [
  {
   "cell_type": "code",
   "execution_count": 1,
   "id": "5c1ba076",
   "metadata": {},
   "outputs": [],
   "source": [
    "#import the random module\n",
    "import random"
   ]
  },
  {
   "cell_type": "code",
   "execution_count": 2,
   "id": "5bf74d57",
   "metadata": {},
   "outputs": [
    {
     "data": {
      "text/plain": [
       "35"
      ]
     },
     "execution_count": 2,
     "metadata": {},
     "output_type": "execute_result"
    }
   ],
   "source": [
    "random.randint(-90,90)"
   ]
  },
  {
   "cell_type": "code",
   "execution_count": 3,
   "id": "458dd274",
   "metadata": {},
   "outputs": [
    {
     "data": {
      "text/plain": [
       "0.24083999191958994"
      ]
     },
     "execution_count": 3,
     "metadata": {},
     "output_type": "execute_result"
    }
   ],
   "source": [
    "random.random()"
   ]
  },
  {
   "cell_type": "code",
   "execution_count": 4,
   "id": "f5575102",
   "metadata": {},
   "outputs": [
    {
     "data": {
      "text/plain": [
       "-6.920429648245149"
      ]
     },
     "execution_count": 4,
     "metadata": {},
     "output_type": "execute_result"
    }
   ],
   "source": [
    "random_number = random.randint(-90,89) + random.random()\n",
    "random_number"
   ]
  },
  {
   "cell_type": "code",
   "execution_count": 5,
   "id": "042caeff",
   "metadata": {},
   "outputs": [],
   "source": [
    "x = 1\n",
    "latitudes = []\n",
    "while x < 11:\n",
    "    random_lat = random.randint(-90, 89) + random.random()\n",
    "    latitudes.append(random_lat)\n",
    "    x += 1"
   ]
  },
  {
   "cell_type": "code",
   "execution_count": 6,
   "id": "b051d4f5",
   "metadata": {},
   "outputs": [
    {
     "data": {
      "text/plain": [
       "[64.1233339782057,\n",
       " -17.943342843055532,\n",
       " 7.532190414081031,\n",
       " 59.975659201947956,\n",
       " -50.98569846274769,\n",
       " 46.39397590111526,\n",
       " -36.091111301532656,\n",
       " 56.59973949097526,\n",
       " -27.836934706817114,\n",
       " -0.8151637493449087]"
      ]
     },
     "execution_count": 6,
     "metadata": {},
     "output_type": "execute_result"
    }
   ],
   "source": [
    "latitudes"
   ]
  },
  {
   "cell_type": "code",
   "execution_count": 7,
   "id": "6b5069b7",
   "metadata": {},
   "outputs": [
    {
     "data": {
      "text/plain": [
       "-6"
      ]
     },
     "execution_count": 7,
     "metadata": {},
     "output_type": "execute_result"
    }
   ],
   "source": [
    "random.randrange(-90, 90, step=1)"
   ]
  },
  {
   "cell_type": "code",
   "execution_count": 8,
   "id": "cf44a192",
   "metadata": {},
   "outputs": [
    {
     "data": {
      "text/plain": [
       "78.02254915696898"
      ]
     },
     "execution_count": 8,
     "metadata": {},
     "output_type": "execute_result"
    }
   ],
   "source": [
    "random.uniform(-90, 90)"
   ]
  },
  {
   "cell_type": "code",
   "execution_count": 9,
   "id": "56a80768",
   "metadata": {},
   "outputs": [],
   "source": [
    "# Import the NumPy module.\n",
    "import numpy as np"
   ]
  },
  {
   "cell_type": "code",
   "execution_count": 10,
   "id": "51dd7dda",
   "metadata": {},
   "outputs": [
    {
     "data": {
      "text/plain": [
       "6.959389678673617"
      ]
     },
     "execution_count": 10,
     "metadata": {},
     "output_type": "execute_result"
    }
   ],
   "source": [
    "np.random.uniform(-90.000, 90.000)"
   ]
  },
  {
   "cell_type": "code",
   "execution_count": 11,
   "id": "dc30bb2a",
   "metadata": {},
   "outputs": [
    {
     "data": {
      "text/plain": [
       "array([ 49.32717551,  81.05267635,  32.0369574 , -47.18310838,\n",
       "       -34.50229115, -64.12136737,  35.50701504,  13.51919855,\n",
       "       -77.85539785,  39.00861604,  72.72301325,  24.16853409,\n",
       "        54.36980645,  71.31697794,  74.7846384 ,  24.07960508,\n",
       "       -22.23623013, -70.97472016,  54.89628557, -40.42967385,\n",
       "        88.50692935, -26.92673197, -26.69170971, -87.16746227,\n",
       "       -15.10734052,  47.02656   , -67.8056993 , -60.68785859,\n",
       "        84.90717401, -18.87393527, -85.11533054,  56.61396553,\n",
       "        12.6215569 , -50.19599241,  32.828861  ,  -9.66577413,\n",
       "        15.63795921, -74.91663369, -84.43504088, -11.8766264 ,\n",
       "        71.76202677,  82.85208333,  81.14385822,  21.29282956,\n",
       "       -71.31323582, -48.09060523,  77.03905014, -79.26752134,\n",
       "        46.05266317,  16.0864845 ])"
      ]
     },
     "execution_count": 11,
     "metadata": {},
     "output_type": "execute_result"
    }
   ],
   "source": [
    "np.random.uniform(-90.000, 90.000, size=50)"
   ]
  },
  {
   "cell_type": "code",
   "execution_count": 12,
   "id": "d1e71a16",
   "metadata": {},
   "outputs": [],
   "source": [
    "# Import timeit.\n",
    "import timeit"
   ]
  },
  {
   "cell_type": "code",
   "execution_count": 13,
   "id": "20e50246",
   "metadata": {},
   "outputs": [
    {
     "name": "stdout",
     "output_type": "stream",
     "text": [
      "43.6 µs ± 4.02 µs per loop (mean ± std. dev. of 7 runs, 10000 loops each)\n"
     ]
    }
   ],
   "source": [
    "%timeit np.random.uniform(-90.000, 90.000, size=1500)"
   ]
  },
  {
   "cell_type": "code",
   "execution_count": 14,
   "id": "da452faf",
   "metadata": {},
   "outputs": [
    {
     "name": "stdout",
     "output_type": "stream",
     "text": [
      "5.75 ms ± 294 µs per loop (mean ± std. dev. of 7 runs, 100 loops each)\n"
     ]
    }
   ],
   "source": [
    "def latitudes(size):\n",
    "    latitudes = []\n",
    "    x = 0\n",
    "    while x < (size):\n",
    "        random_lat = random.randint(-90, 90) + random.random()\n",
    "        latitudes.append(random_lat)\n",
    "        x += 1\n",
    "    return latitudes\n",
    "# Call the function with 1500.\n",
    "%timeit latitudes(1500)"
   ]
  }
 ],
 "metadata": {
  "kernelspec": {
   "display_name": "PythonData",
   "language": "python",
   "name": "pythondata"
  },
  "language_info": {
   "codemirror_mode": {
    "name": "ipython",
    "version": 3
   },
   "file_extension": ".py",
   "mimetype": "text/x-python",
   "name": "python",
   "nbconvert_exporter": "python",
   "pygments_lexer": "ipython3",
   "version": "3.7.10"
  }
 },
 "nbformat": 4,
 "nbformat_minor": 5
}
